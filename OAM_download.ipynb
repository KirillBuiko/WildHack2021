{
 "cells": [
  {
   "cell_type": "code",
   "execution_count": 2,
   "metadata": {},
   "outputs": [],
   "source": [
    "import requests\n",
    "import json"
   ]
  },
  {
   "cell_type": "code",
   "execution_count": 6,
   "metadata": {},
   "outputs": [],
   "source": [
    "# getting list of downloadable files\n",
    "res = requests.get('https://api.openaerialmap.org/meta?limit=11000')\n",
    "res_p = json.loads(res.content)"
   ]
  },
  {
   "cell_type": "code",
   "execution_count": 26,
   "metadata": {},
   "outputs": [],
   "source": [
    "# collecting records with pre-defined image resolution\n",
    "results_better_than_50 = []\n",
    "for r in res_p['results']:\n",
    "    if 'resolution_in_meters' in r['properties'].keys():\n",
    "        if (r['properties']['resolution_in_meters'] > 0.15) and (r['properties']['resolution_in_meters'] <= 0.5):\n",
    "            results_better_than_50.append(r)"
   ]
  },
  {
   "cell_type": "code",
   "execution_count": 28,
   "metadata": {},
   "outputs": [],
   "source": [
    "# saving just to be sure\n",
    "with open('between15_and_50.json', 'w') as f:\n",
    "    json.dump(results_better_than_50, f)"
   ]
  },
  {
   "cell_type": "code",
   "execution_count": 3,
   "metadata": {},
   "outputs": [],
   "source": [
    "with open('between15_and_50.json', 'r') as f:\n",
    "    results_better_than_50 = json.load(f)"
   ]
  },
  {
   "cell_type": "code",
   "execution_count": 4,
   "metadata": {},
   "outputs": [],
   "source": [
    "import numpy as np"
   ]
  },
  {
   "cell_type": "code",
   "execution_count": 5,
   "metadata": {},
   "outputs": [],
   "source": [
    "from tqdm.auto import tqdm\n",
    "import os"
   ]
  },
  {
   "cell_type": "code",
   "execution_count": 6,
   "metadata": {},
   "outputs": [
    {
     "data": {
      "application/vnd.jupyter.widget-view+json": {
       "model_id": "8414626d4911464faebd2375edc0b0aa",
       "version_major": 2,
       "version_minor": 0
      },
      "text/plain": [
       "  0%|          | 0/2780 [00:00<?, ?it/s]"
      ]
     },
     "metadata": {},
     "output_type": "display_data"
    }
   ],
   "source": [
    "for tile in tqdm(results_better_than_50):\n",
    "    url = tile['uuid']\n",
    "    r = requests.get(url, allow_redirects=True)\n",
    "    \n",
    "    fname = tile['_id']+'.'+os.path.basename(tile['properties']['url']).split('.')[-1]\n",
    "    with open(f'/mnt/data/machine-learning/oam/{fname}', 'wb') as f:\n",
    "        f.write(r.content)"
   ]
  }
 ],
 "metadata": {
  "kernelspec": {
   "display_name": "Python 3",
   "language": "python",
   "name": "python3"
  },
  "language_info": {
   "codemirror_mode": {
    "name": "ipython",
    "version": 3
   },
   "file_extension": ".py",
   "mimetype": "text/x-python",
   "name": "python",
   "nbconvert_exporter": "python",
   "pygments_lexer": "ipython3",
   "version": "3.7.3"
  }
 },
 "nbformat": 4,
 "nbformat_minor": 4
}
